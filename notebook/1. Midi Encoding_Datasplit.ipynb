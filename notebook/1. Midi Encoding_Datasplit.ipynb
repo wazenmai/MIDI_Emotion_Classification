{
 "cells": [
  {
   "cell_type": "code",
   "execution_count": 12,
   "id": "366e6f0e",
   "metadata": {},
   "outputs": [],
   "source": [
    "import os\n",
    "import pickle\n",
    "import torch\n",
    "import sys\n",
    "sys.path.append(\"..\")\n",
    "import pandas as pd\n",
    "from REMI.midi2event import analyzer, corpus, event"
   ]
  },
  {
   "cell_type": "code",
   "execution_count": 13,
   "id": "013ed5fa",
   "metadata": {},
   "outputs": [
    {
     "data": {
      "text/plain": [
       "338"
      ]
     },
     "execution_count": 13,
     "metadata": {},
     "output_type": "execute_result"
    }
   ],
   "source": [
    "path_data_root = \"../REMI/ailab17k_from-scratch_remi\"\n",
    "path_dictionary = os.path.join(path_data_root, 'dictionary.pkl')\n",
    "dictionary = pickle.load(open(path_dictionary, \"rb\"))\n",
    "event_to_int_no_key = dictionary[0]\n",
    "len(event_to_int_no_key)"
   ]
  },
  {
   "cell_type": "code",
   "execution_count": 14,
   "id": "122b6ae3",
   "metadata": {},
   "outputs": [],
   "source": [
    "key_profiles = ['C', 'C#', 'D', 'D#', 'E', 'F', 'F#', 'G', 'G#','A', 'A#','B','c','c#', 'd', 'd#', 'e', 'f', 'f#', 'g', 'g#', 'a', 'a#', 'b']"
   ]
  },
  {
   "cell_type": "code",
   "execution_count": 15,
   "id": "628dd74c",
   "metadata": {},
   "outputs": [],
   "source": [
    "event_to_int_key = event_to_int_no_key.copy()"
   ]
  },
  {
   "cell_type": "code",
   "execution_count": 16,
   "id": "15f7f4b2",
   "metadata": {},
   "outputs": [],
   "source": [
    "for idx, i in enumerate(key_profiles):\n",
    "    event_to_int_key[\"Key_\" + i] = 338 + idx"
   ]
  },
  {
   "cell_type": "code",
   "execution_count": 17,
   "id": "6e03c897",
   "metadata": {},
   "outputs": [],
   "source": [
    "int_to_event = {j:i for i,j in event_to_int_key.items()}"
   ]
  },
  {
   "cell_type": "code",
   "execution_count": 18,
   "id": "32bff72e",
   "metadata": {},
   "outputs": [],
   "source": [
    "key_dictionary = (event_to_int_key, int_to_event)"
   ]
  },
  {
   "cell_type": "code",
   "execution_count": 19,
   "id": "de58ed89",
   "metadata": {},
   "outputs": [],
   "source": [
    "path_data_root = \"../REMI/ailab17k_from-scratch_remi\"\n",
    "path_dictionary = os.path.join(path_data_root, 'dictionary_with_key.pkl')\n",
    "pickle.dump(key_dictionary, open(path_dictionary, 'wb'))"
   ]
  },
  {
   "cell_type": "code",
   "execution_count": 20,
   "id": "413ddb21",
   "metadata": {},
   "outputs": [
    {
     "data": {
      "text/plain": [
       "(338, 362)"
      ]
     },
     "execution_count": 20,
     "metadata": {},
     "output_type": "execute_result"
    }
   ],
   "source": [
    "len(event_to_int_no_key), len(event_to_int_key)"
   ]
  },
  {
   "cell_type": "markdown",
   "id": "ebdf9c53",
   "metadata": {},
   "source": [
    "# Make REMI_Representation"
   ]
  },
  {
   "cell_type": "code",
   "execution_count": 21,
   "id": "c34fbb90",
   "metadata": {},
   "outputs": [],
   "source": [
    "matlab_path = \"../dataset/matlab_feature/\"\n",
    "remi_dir = \"../REMI/ailab17k_from-scratch_remi/events\"\n",
    "fnames = os.listdir(remi_dir)"
   ]
  },
  {
   "cell_type": "code",
   "execution_count": 30,
   "id": "4371dc0f",
   "metadata": {},
   "outputs": [],
   "source": [
    "def _get_remi_to_int(fnames, use_key = True):\n",
    "    for fname in fnames:\n",
    "        remi_example = pickle.load(open(os.path.join(remi_dir, fname), \"rb\"))\n",
    "        fname = fname.split(\".\")[0].split(\"_seg\")[0]\n",
    "        if use_key:\n",
    "            matlab_features = pd.read_csv(os.path.join(matlab_path, fname + \".csv\"))\n",
    "            key_profile = {\"name\": \"Key\", \"value\": matlab_features['keyname'].item()}\n",
    "            remi_example = [key_profile] + remi_example\n",
    "            int_example = [event_to_int_key[str(i['name'])+\"_\"+str(i['value'])] for i in remi_example]\n",
    "            torch.save(int_example, os.path.join(\"../dataset/remi_key_midi\", fname + \".pt\"))\n",
    "        else:\n",
    "            int_example = [event_to_int_no_key[str(i['name'])+\"_\"+str(i['value'])] for i in remi_example]\n",
    "            torch.save(int_example, os.path.join(\"../dataset/remi_midi\", fname + \".pt\"))\n",
    "    return remi_example"
   ]
  },
  {
   "cell_type": "code",
   "execution_count": 31,
   "id": "1c707575",
   "metadata": {},
   "outputs": [],
   "source": [
    "remi_example = _get_remi_to_int(fnames)\n",
    "_get_remi_to_int(fnames, use_key=False)"
   ]
  },
  {
   "cell_type": "markdown",
   "id": "329ce6f2",
   "metadata": {},
   "source": [
    "# Data Split"
   ]
  },
  {
   "cell_type": "code",
   "execution_count": 55,
   "id": "18a0c85f",
   "metadata": {},
   "outputs": [],
   "source": [
    "index_list = []\n",
    "fname_list = []\n",
    "label_list = []\n",
    "for i in fnames:\n",
    "    index_name = i.split(\".mid\")[0].split(\"_seg\")[0]\n",
    "    f_name = \"_\".join(i.split(\".mid\")[0].split(\"_\")[1:-1])\n",
    "    label = i.split(\"_\")[0]\n",
    "    index_list.append(index_name)\n",
    "    label_list.append(label)\n",
    "    fname_list.append(f_name)"
   ]
  },
  {
   "cell_type": "code",
   "execution_count": 56,
   "id": "afc11f97",
   "metadata": {},
   "outputs": [
    {
     "data": {
      "text/html": [
       "<div>\n",
       "<style scoped>\n",
       "    .dataframe tbody tr th:only-of-type {\n",
       "        vertical-align: middle;\n",
       "    }\n",
       "\n",
       "    .dataframe tbody tr th {\n",
       "        vertical-align: top;\n",
       "    }\n",
       "\n",
       "    .dataframe thead th {\n",
       "        text-align: right;\n",
       "    }\n",
       "</style>\n",
       "<table border=\"1\" class=\"dataframe\">\n",
       "  <thead>\n",
       "    <tr style=\"text-align: right;\">\n",
       "      <th></th>\n",
       "      <th>label</th>\n",
       "    </tr>\n",
       "  </thead>\n",
       "  <tbody>\n",
       "    <tr>\n",
       "      <th>Q3_xYZ8n8ULaNo_0</th>\n",
       "      <td>Q3</td>\n",
       "    </tr>\n",
       "    <tr>\n",
       "      <th>Q2_48EYLEAgaBc_1</th>\n",
       "      <td>Q2</td>\n",
       "    </tr>\n",
       "    <tr>\n",
       "      <th>Q4_j8Ir-ssM-AA_0</th>\n",
       "      <td>Q4</td>\n",
       "    </tr>\n",
       "    <tr>\n",
       "      <th>Q4_I2MrA-o5H8I_2</th>\n",
       "      <td>Q4</td>\n",
       "    </tr>\n",
       "    <tr>\n",
       "      <th>Q4_ltNK_MY1HkM_2</th>\n",
       "      <td>Q4</td>\n",
       "    </tr>\n",
       "  </tbody>\n",
       "</table>\n",
       "</div>"
      ],
      "text/plain": [
       "                 label\n",
       "Q3_xYZ8n8ULaNo_0    Q3\n",
       "Q2_48EYLEAgaBc_1    Q2\n",
       "Q4_j8Ir-ssM-AA_0    Q4\n",
       "Q4_I2MrA-o5H8I_2    Q4\n",
       "Q4_ltNK_MY1HkM_2    Q4"
      ]
     },
     "execution_count": 56,
     "metadata": {},
     "output_type": "execute_result"
    }
   ],
   "source": [
    "df = pd.DataFrame(label_list, index=index_list, columns=['label'])\n",
    "df.head()"
   ]
  },
  {
   "cell_type": "code",
   "execution_count": 88,
   "id": "6e1eadc2",
   "metadata": {},
   "outputs": [
    {
     "data": {
      "text/plain": [
       "1052"
      ]
     },
     "execution_count": 88,
     "metadata": {},
     "output_type": "execute_result"
    }
   ],
   "source": [
    "len(df)"
   ]
  },
  {
   "cell_type": "code",
   "execution_count": 58,
   "id": "d99885e7",
   "metadata": {},
   "outputs": [
    {
     "data": {
      "text/plain": [
       "(946,\n",
       " Counter({'Q2': 236, 'Q3': 219, 'Q1': 215, 'Q4': 276}),\n",
       " 106,\n",
       " Counter({'Q1': 24, 'Q4': 31, 'Q3': 25, 'Q2': 26}))"
      ]
     },
     "execution_count": 58,
     "metadata": {},
     "output_type": "execute_result"
    }
   ],
   "source": [
    "from collections import Counter\n",
    "from sklearn.model_selection import train_test_split\n",
    "\n",
    "train_val, test = train_test_split(df, test_size=0.1, random_state=42, stratify=df['label'])\n",
    "len(train_val) ,Counter(train_val['label']), len(test), Counter(test['label'])"
   ]
  },
  {
   "cell_type": "code",
   "execution_count": 59,
   "id": "5cef3319",
   "metadata": {},
   "outputs": [
    {
     "data": {
      "text/plain": [
       "(742,\n",
       " Counter({'Q4': 216, 'Q1': 169, 'Q3': 172, 'Q2': 185}),\n",
       " 204,\n",
       " Counter({'Q4': 60, 'Q1': 46, 'Q2': 51, 'Q3': 47}))"
      ]
     },
     "execution_count": 59,
     "metadata": {},
     "output_type": "execute_result"
    }
   ],
   "source": [
    "train, val = train_test_split(train_val, test_size=0.215, random_state=42, stratify=train_val['label'])\n",
    "len(train) ,Counter(train['label']), len(val), Counter(val['label'])"
   ]
  },
  {
   "cell_type": "code",
   "execution_count": 63,
   "id": "c3dd0b95",
   "metadata": {},
   "outputs": [],
   "source": [
    "# train.to_csv(\"../dataset/split/train.csv\")\n",
    "# val.to_csv(\"../dataset/split/val.csv\")\n",
    "# test.to_csv(\"../dataset/split/test.csv\")"
   ]
  },
  {
   "cell_type": "code",
   "execution_count": null,
   "id": "aa1236c7",
   "metadata": {},
   "outputs": [],
   "source": []
  }
 ],
 "metadata": {
  "kernelspec": {
   "display_name": "Python 3",
   "language": "python",
   "name": "python3"
  },
  "language_info": {
   "codemirror_mode": {
    "name": "ipython",
    "version": 3
   },
   "file_extension": ".py",
   "mimetype": "text/x-python",
   "name": "python",
   "nbconvert_exporter": "python",
   "pygments_lexer": "ipython3",
   "version": "3.8.5"
  }
 },
 "nbformat": 4,
 "nbformat_minor": 5
}
