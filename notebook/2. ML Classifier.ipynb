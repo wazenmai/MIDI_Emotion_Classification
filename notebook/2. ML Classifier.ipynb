{
 "cells": [
  {
   "cell_type": "markdown",
   "id": "cd95a76b",
   "metadata": {},
   "source": [
    "Key,Velocity,Note Density,Note Length"
   ]
  },
  {
   "cell_type": "code",
   "execution_count": 1,
   "id": "bcf1cd1e",
   "metadata": {},
   "outputs": [],
   "source": [
    "import os\n",
    "import pretty_midi\n",
    "import pandas as pd\n",
    "from tqdm.notebook import tqdm"
   ]
  },
  {
   "cell_type": "markdown",
   "id": "80ee59ce",
   "metadata": {},
   "source": [
    "## DataLoad"
   ]
  },
  {
   "cell_type": "code",
   "execution_count": 2,
   "id": "5f71aeb3",
   "metadata": {},
   "outputs": [],
   "source": [
    "train = pd.read_csv(\"../dataset/split/train.csv\", index_col=0)\n",
    "val= pd.read_csv(\"../dataset/split/val.csv\", index_col=0)\n",
    "test= pd.read_csv(\"../dataset/split/test.csv\", index_col=0)\n",
    "train_val = pd.concat([train, val], axis=0)"
   ]
  },
  {
   "cell_type": "code",
   "execution_count": 3,
   "id": "5151036c",
   "metadata": {},
   "outputs": [],
   "source": [
    "def get_midi_df(fn):\n",
    "    midi_data = pretty_midi.PrettyMIDI(fn)\n",
    "    midi_data.remove_invalid_notes()\n",
    "    midi_list = []\n",
    "    for instrument in midi_data.instruments:\n",
    "        for note in instrument.notes:\n",
    "            start = note.start\n",
    "            end = note.end\n",
    "            pitch = note.pitch\n",
    "            velocity = note.velocity\n",
    "            midi_list.append([start, end, pitch, velocity])\n",
    "            \n",
    "    midi_list = sorted(midi_list, key=lambda x: (x[0], x[2]))\n",
    "    midi_df = pd.DataFrame(midi_list, columns=['start', 'end', 'pitch', 'velocity'])\n",
    "    midi_df['note_length'] = midi_df['end'] - midi_df['start']\n",
    "    return midi_df"
   ]
  },
  {
   "cell_type": "code",
   "execution_count": 4,
   "id": "14720963",
   "metadata": {},
   "outputs": [],
   "source": [
    "def get_song_level_feature(fn):\n",
    "    results = {}\n",
    "    midi_df = get_midi_df(fn)\n",
    "    results['note_length_mean'] = midi_df['note_length'].mean()\n",
    "    results['velocity_mean'] = midi_df['velocity'].mean()\n",
    "    return results"
   ]
  },
  {
   "cell_type": "code",
   "execution_count": 5,
   "id": "14d8a9ba",
   "metadata": {},
   "outputs": [],
   "source": [
    "def _feature_extractor(train_val):\n",
    "    feature_list = []\n",
    "    for fname in train_val.index:\n",
    "        midi_features = get_song_level_feature(os.path.join(midi_path, fname + \".mid\"))\n",
    "        matlab_features = pd.read_csv(os.path.join(matlab_path, fname + \".csv\"))\n",
    "        midi_features['keyname'] = matlab_features['keyname'].item()\n",
    "        midi_features['beatNoteDensity'] = matlab_features['beatNoteDensity'].item()\n",
    "        feature_list.append(midi_features)\n",
    "    return feature_list"
   ]
  },
  {
   "cell_type": "code",
   "execution_count": 6,
   "id": "a987ab5b",
   "metadata": {},
   "outputs": [],
   "source": [
    "midi_path = \"../../dataset/PEmoDataset/midis/\"\n",
    "matlab_path = \"../dataset/matlab_feature/\"\n",
    "train_val_list = _feature_extractor(train_val)\n",
    "test_list = _feature_extractor(test)"
   ]
  },
  {
   "cell_type": "markdown",
   "id": "67cefdef",
   "metadata": {},
   "source": [
    "# ML Classifier"
   ]
  },
  {
   "cell_type": "code",
   "execution_count": 7,
   "id": "aa7ef832",
   "metadata": {},
   "outputs": [],
   "source": [
    "import numpy as np\n",
    "import matplotlib.pyplot as plt  \n",
    "from sklearn.linear_model import LogisticRegression\n",
    "from sklearn.metrics import plot_confusion_matrix"
   ]
  },
  {
   "cell_type": "code",
   "execution_count": 8,
   "id": "7eb488cb",
   "metadata": {},
   "outputs": [],
   "source": [
    "def _get_labels(label_quad, cls_type):\n",
    "    if cls_type == \"AV\":\n",
    "        results = np.array(label_quad)\n",
    "    elif cls_type == \"A\":\n",
    "        labels = []\n",
    "        for label in label_quad:\n",
    "            if label in ['Q1','Q2']:\n",
    "                labels.append('HA')\n",
    "            elif label in ['Q3','Q4']:\n",
    "                labels.append('LA')\n",
    "        results = np.array(labels)\n",
    "    elif cls_type == \"V\":\n",
    "        labels = []\n",
    "        for label in label_quad:\n",
    "            if label in ['Q1','Q4']:\n",
    "                labels.append('HV')\n",
    "            elif label in ['Q2','Q3']:\n",
    "                labels.append('LV') \n",
    "        results = np.array(labels)\n",
    "    return results\n",
    "\n",
    "def _get_train_test(train_val_list, test_list, cls_type = \"AV\"):\n",
    "    m_x_train = pd.DataFrame(train_val_list)\n",
    "    m_x_train = pd.concat([m_x_train, pd.get_dummies(m_x_train.keyname)],axis=1).drop(columns=['keyname'])\n",
    "    m_x_test = pd.DataFrame(test_list)\n",
    "    m_x_test = pd.concat([m_x_test, pd.get_dummies(m_x_test.keyname)],axis=1).drop(columns=['keyname'])\n",
    "    \n",
    "    m_y_train = list(train_val['label'])\n",
    "    m_y_test = list(test['label'])\n",
    "    m_y_train = _get_labels(m_y_train, cls_type)  \n",
    "    m_y_test = _get_labels(m_y_test, cls_type)  \n",
    "    return m_x_train, m_y_train, m_x_test, m_y_test"
   ]
  },
  {
   "cell_type": "code",
   "execution_count": 9,
   "id": "c51bb015",
   "metadata": {},
   "outputs": [
    {
     "name": "stderr",
     "output_type": "stream",
     "text": [
      "/MIDI_Emotion_Classification/env/lib/python3.8/site-packages/sklearn/linear_model/_logistic.py:937: ConvergenceWarning: lbfgs failed to converge (status=1):\n",
      "STOP: TOTAL NO. of ITERATIONS REACHED LIMIT.\n",
      "\n",
      "Increase the number of iterations (max_iter) or scale the data as shown in:\n",
      "    https://scikit-learn.org/stable/modules/preprocessing.html.\n",
      "Please also refer to the documentation for alternative solver options:\n",
      "    https://scikit-learn.org/stable/modules/linear_model.html#logistic-regression\n",
      "  n_iter_i = _check_optimize_result(\n"
     ]
    },
    {
     "data": {
      "text/plain": [
       "0.660377358490566"
      ]
     },
     "execution_count": 9,
     "metadata": {},
     "output_type": "execute_result"
    }
   ],
   "source": [
    "m_x_train, m_y_train, m_x_test, m_y_test = _get_train_test(train_val_list, test_list, cls_type = \"AV\")\n",
    "clf = LogisticRegression(random_state=42).fit(m_x_train, m_y_train)\n",
    "clf.score(m_x_test, m_y_test)"
   ]
  },
  {
   "cell_type": "code",
   "execution_count": 10,
   "id": "335f3d3c",
   "metadata": {},
   "outputs": [
    {
     "name": "stderr",
     "output_type": "stream",
     "text": [
      "/MIDI_Emotion_Classification/env/lib/python3.8/site-packages/sklearn/linear_model/_logistic.py:937: ConvergenceWarning: lbfgs failed to converge (status=1):\n",
      "STOP: TOTAL NO. of ITERATIONS REACHED LIMIT.\n",
      "\n",
      "Increase the number of iterations (max_iter) or scale the data as shown in:\n",
      "    https://scikit-learn.org/stable/modules/preprocessing.html.\n",
      "Please also refer to the documentation for alternative solver options:\n",
      "    https://scikit-learn.org/stable/modules/linear_model.html#logistic-regression\n",
      "  n_iter_i = _check_optimize_result(\n"
     ]
    },
    {
     "data": {
      "text/plain": [
       "0.9245283018867925"
      ]
     },
     "execution_count": 10,
     "metadata": {},
     "output_type": "execute_result"
    }
   ],
   "source": [
    "m_x_train, m_y_train, m_x_test, m_y_test = _get_train_test(train_val_list, test_list, cls_type = \"A\")\n",
    "clf = LogisticRegression(random_state=42).fit(m_x_train, m_y_train)\n",
    "clf.score(m_x_test, m_y_test)"
   ]
  },
  {
   "cell_type": "code",
   "execution_count": 11,
   "id": "f207df26",
   "metadata": {},
   "outputs": [
    {
     "name": "stderr",
     "output_type": "stream",
     "text": [
      "/MIDI_Emotion_Classification/env/lib/python3.8/site-packages/sklearn/linear_model/_logistic.py:937: ConvergenceWarning: lbfgs failed to converge (status=1):\n",
      "STOP: TOTAL NO. of ITERATIONS REACHED LIMIT.\n",
      "\n",
      "Increase the number of iterations (max_iter) or scale the data as shown in:\n",
      "    https://scikit-learn.org/stable/modules/preprocessing.html.\n",
      "Please also refer to the documentation for alternative solver options:\n",
      "    https://scikit-learn.org/stable/modules/linear_model.html#logistic-regression\n",
      "  n_iter_i = _check_optimize_result(\n"
     ]
    },
    {
     "data": {
      "text/plain": [
       "0.6509433962264151"
      ]
     },
     "execution_count": 11,
     "metadata": {},
     "output_type": "execute_result"
    }
   ],
   "source": [
    "m_x_train, m_y_train, m_x_test, m_y_test = _get_train_test(train_val_list, test_list, cls_type = \"V\")\n",
    "clf = LogisticRegression(random_state=42).fit(m_x_train, m_y_train)\n",
    "clf.score(m_x_test, m_y_test)"
   ]
  },
  {
   "cell_type": "code",
   "execution_count": 13,
   "id": "3ef02519",
   "metadata": {},
   "outputs": [
    {
     "data": {
      "text/plain": [
       "Index(['note_length_mean', 'velocity_mean', 'beatNoteDensity', 'A', 'A#', 'B',\n",
       "       'C', 'C#', 'D', 'D#', 'E', 'F', 'F#', 'G', 'G#', 'a', 'a#', 'b', 'c',\n",
       "       'c#', 'd', 'd#', 'e', 'f', 'f#', 'g', 'g#'],\n",
       "      dtype='object')"
      ]
     },
     "execution_count": 13,
     "metadata": {},
     "output_type": "execute_result"
    }
   ],
   "source": [
    "m_x_train.columns"
   ]
  },
  {
   "cell_type": "code",
   "execution_count": null,
   "id": "80411584",
   "metadata": {},
   "outputs": [],
   "source": []
  }
 ],
 "metadata": {
  "kernelspec": {
   "display_name": "Python 3",
   "language": "python",
   "name": "python3"
  },
  "language_info": {
   "codemirror_mode": {
    "name": "ipython",
    "version": 3
   },
   "file_extension": ".py",
   "mimetype": "text/x-python",
   "name": "python",
   "nbconvert_exporter": "python",
   "pygments_lexer": "ipython3",
   "version": "3.8.5"
  }
 },
 "nbformat": 4,
 "nbformat_minor": 5
}
