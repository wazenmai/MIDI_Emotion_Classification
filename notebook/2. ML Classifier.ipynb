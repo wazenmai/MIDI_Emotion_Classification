{
 "cells": [
  {
   "cell_type": "code",
   "execution_count": 9,
   "id": "bcf1cd1e",
   "metadata": {},
   "outputs": [],
   "source": [
    "import os\n",
    "import pretty_midi\n",
    "import pandas as pd\n",
    "from tqdm.notebook import tqdm\n",
    "import matplotlib.pyplot as plt\n",
    "import seaborn as sns"
   ]
  },
  {
   "cell_type": "markdown",
   "id": "80ee59ce",
   "metadata": {},
   "source": [
    "## DataLoad"
   ]
  },
  {
   "cell_type": "code",
   "execution_count": 2,
   "id": "5f71aeb3",
   "metadata": {},
   "outputs": [],
   "source": [
    "train = pd.read_csv(\"../dataset/split/train.csv\", index_col=0)\n",
    "val= pd.read_csv(\"../dataset/split/val.csv\", index_col=0)\n",
    "test= pd.read_csv(\"../dataset/split/test.csv\", index_col=0)\n",
    "train_val = pd.concat([train, val], axis=0)"
   ]
  },
  {
   "cell_type": "code",
   "execution_count": 3,
   "id": "5151036c",
   "metadata": {},
   "outputs": [],
   "source": [
    "def get_midi_df(fn):\n",
    "    midi_data = pretty_midi.PrettyMIDI(fn)\n",
    "    midi_data.remove_invalid_notes()\n",
    "    midi_list = []\n",
    "    for instrument in midi_data.instruments:\n",
    "        for note in instrument.notes:\n",
    "            start = note.start\n",
    "            end = note.end\n",
    "            pitch = note.pitch\n",
    "            velocity = note.velocity\n",
    "            midi_list.append([start, end, pitch, velocity])\n",
    "            \n",
    "    midi_list = sorted(midi_list, key=lambda x: (x[0], x[2]))\n",
    "    midi_df = pd.DataFrame(midi_list, columns=['start', 'end', 'pitch', 'velocity'])\n",
    "    midi_df['note_length'] = midi_df['end'] - midi_df['start']\n",
    "    return midi_df"
   ]
  },
  {
   "cell_type": "code",
   "execution_count": 4,
   "id": "14720963",
   "metadata": {},
   "outputs": [],
   "source": [
    "def get_song_level_feature(fn):\n",
    "    results = {}\n",
    "    midi_df = get_midi_df(fn)\n",
    "    results['note_length_mean'] = midi_df['note_length'].mean()\n",
    "    results['velocity_mean'] = midi_df['velocity'].mean()\n",
    "    return results"
   ]
  },
  {
   "cell_type": "code",
   "execution_count": 5,
   "id": "14d8a9ba",
   "metadata": {},
   "outputs": [],
   "source": [
    "def _feature_extractor(train_val):\n",
    "    feature_list = []\n",
    "    for fname in train_val.index:\n",
    "        midi_features = get_song_level_feature(os.path.join(midi_path, fname + \".mid\"))\n",
    "        matlab_features = pd.read_csv(os.path.join(matlab_path, fname + \".csv\"))\n",
    "        midi_features['keyname'] = matlab_features['keyname'].item()\n",
    "        midi_features['beatNoteDensity'] = matlab_features['beatNoteDensity'].item()\n",
    "        feature_list.append(midi_features)\n",
    "    return feature_list"
   ]
  },
  {
   "cell_type": "code",
   "execution_count": 6,
   "id": "a987ab5b",
   "metadata": {},
   "outputs": [],
   "source": [
    "midi_path = \"../../dataset/PEmoDataset/midis/\"\n",
    "matlab_path = \"../dataset/matlab_feature/\"\n",
    "train_val_list = _feature_extractor(train_val)\n",
    "test_list = _feature_extractor(test)"
   ]
  },
  {
   "cell_type": "code",
   "execution_count": 11,
   "id": "18271ecf",
   "metadata": {},
   "outputs": [],
   "source": [
    "df_viz = pd.DataFrame(train_val_list + test_list, index=list(train_val.index) + list(test.index))"
   ]
  },
  {
   "cell_type": "code",
   "execution_count": 13,
   "id": "aa210539",
   "metadata": {},
   "outputs": [],
   "source": [
    "labels = [i.split(\"_\")[0] for i in df_viz.index]\n",
    "df_viz['label'] = labels"
   ]
  },
  {
   "cell_type": "code",
   "execution_count": 14,
   "id": "0fbb0fb1",
   "metadata": {},
   "outputs": [
    {
     "data": {
      "text/html": [
       "<div>\n",
       "<style scoped>\n",
       "    .dataframe tbody tr th:only-of-type {\n",
       "        vertical-align: middle;\n",
       "    }\n",
       "\n",
       "    .dataframe tbody tr th {\n",
       "        vertical-align: top;\n",
       "    }\n",
       "\n",
       "    .dataframe thead th {\n",
       "        text-align: right;\n",
       "    }\n",
       "</style>\n",
       "<table border=\"1\" class=\"dataframe\">\n",
       "  <thead>\n",
       "    <tr style=\"text-align: right;\">\n",
       "      <th></th>\n",
       "      <th>note_length_mean</th>\n",
       "      <th>velocity_mean</th>\n",
       "      <th>keyname</th>\n",
       "      <th>beatNoteDensity</th>\n",
       "      <th>label</th>\n",
       "    </tr>\n",
       "  </thead>\n",
       "  <tbody>\n",
       "    <tr>\n",
       "      <th>Q4_rW1I58_lMEg_2</th>\n",
       "      <td>0.672347</td>\n",
       "      <td>39.270408</td>\n",
       "      <td>c</td>\n",
       "      <td>3.281188</td>\n",
       "      <td>Q4</td>\n",
       "    </tr>\n",
       "    <tr>\n",
       "      <th>Q1_7yW9c7t8Hq0_3</th>\n",
       "      <td>0.504668</td>\n",
       "      <td>89.361396</td>\n",
       "      <td>g</td>\n",
       "      <td>6.150277</td>\n",
       "      <td>Q1</td>\n",
       "    </tr>\n",
       "    <tr>\n",
       "      <th>Q4_IgpNyJVWcBo_0</th>\n",
       "      <td>1.156261</td>\n",
       "      <td>48.728033</td>\n",
       "      <td>A</td>\n",
       "      <td>2.181141</td>\n",
       "      <td>Q4</td>\n",
       "    </tr>\n",
       "    <tr>\n",
       "      <th>Q1_Y5JcZQ0xg4Y_2</th>\n",
       "      <td>0.569784</td>\n",
       "      <td>71.738019</td>\n",
       "      <td>A#</td>\n",
       "      <td>5.287902</td>\n",
       "      <td>Q1</td>\n",
       "    </tr>\n",
       "    <tr>\n",
       "      <th>Q3_QJlnTN7HRwE_2</th>\n",
       "      <td>1.361091</td>\n",
       "      <td>50.616822</td>\n",
       "      <td>C</td>\n",
       "      <td>1.938563</td>\n",
       "      <td>Q3</td>\n",
       "    </tr>\n",
       "    <tr>\n",
       "      <th>...</th>\n",
       "      <td>...</td>\n",
       "      <td>...</td>\n",
       "      <td>...</td>\n",
       "      <td>...</td>\n",
       "      <td>...</td>\n",
       "    </tr>\n",
       "    <tr>\n",
       "      <th>Q2_rEz0D3VohFA_2</th>\n",
       "      <td>0.812093</td>\n",
       "      <td>84.312384</td>\n",
       "      <td>f#</td>\n",
       "      <td>5.561337</td>\n",
       "      <td>Q2</td>\n",
       "    </tr>\n",
       "    <tr>\n",
       "      <th>Q2__FVzelKlBFs_0</th>\n",
       "      <td>0.396752</td>\n",
       "      <td>94.119748</td>\n",
       "      <td>c#</td>\n",
       "      <td>9.077788</td>\n",
       "      <td>Q2</td>\n",
       "    </tr>\n",
       "    <tr>\n",
       "      <th>Q1_bIx4DwkZxFY_0</th>\n",
       "      <td>1.009453</td>\n",
       "      <td>64.417808</td>\n",
       "      <td>E</td>\n",
       "      <td>2.579211</td>\n",
       "      <td>Q1</td>\n",
       "    </tr>\n",
       "    <tr>\n",
       "      <th>Q2_9v2WSpn4FCw_5</th>\n",
       "      <td>0.389840</td>\n",
       "      <td>82.870423</td>\n",
       "      <td>g</td>\n",
       "      <td>5.722175</td>\n",
       "      <td>Q2</td>\n",
       "    </tr>\n",
       "    <tr>\n",
       "      <th>Q3_nBao46YGZDg_0</th>\n",
       "      <td>3.293565</td>\n",
       "      <td>58.448598</td>\n",
       "      <td>A</td>\n",
       "      <td>0.641402</td>\n",
       "      <td>Q3</td>\n",
       "    </tr>\n",
       "  </tbody>\n",
       "</table>\n",
       "<p>1052 rows × 5 columns</p>\n",
       "</div>"
      ],
      "text/plain": [
       "                  note_length_mean  velocity_mean keyname  beatNoteDensity  \\\n",
       "Q4_rW1I58_lMEg_2          0.672347      39.270408       c         3.281188   \n",
       "Q1_7yW9c7t8Hq0_3          0.504668      89.361396       g         6.150277   \n",
       "Q4_IgpNyJVWcBo_0          1.156261      48.728033       A         2.181141   \n",
       "Q1_Y5JcZQ0xg4Y_2          0.569784      71.738019      A#         5.287902   \n",
       "Q3_QJlnTN7HRwE_2          1.361091      50.616822       C         1.938563   \n",
       "...                            ...            ...     ...              ...   \n",
       "Q2_rEz0D3VohFA_2          0.812093      84.312384      f#         5.561337   \n",
       "Q2__FVzelKlBFs_0          0.396752      94.119748      c#         9.077788   \n",
       "Q1_bIx4DwkZxFY_0          1.009453      64.417808       E         2.579211   \n",
       "Q2_9v2WSpn4FCw_5          0.389840      82.870423       g         5.722175   \n",
       "Q3_nBao46YGZDg_0          3.293565      58.448598       A         0.641402   \n",
       "\n",
       "                 label  \n",
       "Q4_rW1I58_lMEg_2    Q4  \n",
       "Q1_7yW9c7t8Hq0_3    Q1  \n",
       "Q4_IgpNyJVWcBo_0    Q4  \n",
       "Q1_Y5JcZQ0xg4Y_2    Q1  \n",
       "Q3_QJlnTN7HRwE_2    Q3  \n",
       "...                ...  \n",
       "Q2_rEz0D3VohFA_2    Q2  \n",
       "Q2__FVzelKlBFs_0    Q2  \n",
       "Q1_bIx4DwkZxFY_0    Q1  \n",
       "Q2_9v2WSpn4FCw_5    Q2  \n",
       "Q3_nBao46YGZDg_0    Q3  \n",
       "\n",
       "[1052 rows x 5 columns]"
      ]
     },
     "execution_count": 14,
     "metadata": {},
     "output_type": "execute_result"
    }
   ],
   "source": [
    "df_viz"
   ]
  },
  {
   "cell_type": "code",
   "execution_count": 27,
   "id": "4b639008",
   "metadata": {},
   "outputs": [],
   "source": [
    "def _get_vio(variable, df_midi):\n",
    "    df_use = df_midi[[variable,'label']]\n",
    "    ax = sns.violinplot(x=df_use['label'], y=df_use[variable], data=df_use, order=[\"Q1\",\"Q2\",\"Q3\",\"Q4\"])\n",
    "    ax.figure.savefig(variable + \".png\", dpi=300)\n",
    "    plt.show()"
   ]
  },
  {
   "cell_type": "code",
   "execution_count": 30,
   "id": "ca849227",
   "metadata": {},
   "outputs": [
    {
     "data": {
      "image/png": "[encoded data removed]",
      "text/plain": [
       "<Figure size 432x288 with 1 Axes>"
      ]
     },
     "metadata": {
      "needs_background": "light"
     },
     "output_type": "display_data"
    }
   ],
   "source": [
    "_get_vio(\"beatNoteDensity\", df_viz)"
   ]
  },
  {
   "cell_type": "code",
   "execution_count": 34,
   "id": "9fdd6db7",
   "metadata": {},
   "outputs": [
    {
     "name": "stdout",
     "output_type": "stream",
     "text": [
      "Q1\n",
      "Q2\n",
      "Q3\n",
      "Q4\n"
     ]
    },
    {
     "data": {
      "image/png": "[encoded data removed]",
      "text/plain": [
       "<Figure size 432x288 with 1 Axes>"
      ]
     },
     "metadata": {
      "needs_background": "light"
     },
     "output_type": "display_data"
    },
    {
     "data": {
      "image/png": "[encoded data removed]",
      "text/plain": [
       "<Figure size 432x288 with 1 Axes>"
      ]
     },
     "metadata": {
      "needs_background": "light"
     },
     "output_type": "display_data"
    },
    {
     "data": {
      "image/png": "[encoded data removed]",
      "text/plain": [
       "<Figure size 432x288 with 1 Axes>"
      ]
     },
     "metadata": {
      "needs_background": "light"
     },
     "output_type": "display_data"
    },
    {
     "data": {
      "image/png": "[encoded data removed]",
      "text/plain": [
       "<Figure size 432x288 with 1 Axes>"
      ]
     },
     "metadata": {
      "needs_background": "light"
     },
     "output_type": "display_data"
    }
   ],
   "source": [
    "from collections import Counter\n",
    "major = ['C','C#','D',\"E\",\"E#\",'F','F#','G','G#','A','A#','B']\n",
    "minor = [i.lower() for i in major]\n",
    "keyorder = major + minor\n",
    "\n",
    "labels = [\"Q1\",\"Q2\",\"Q3\",\"Q4\"]\n",
    "color = ['tab:blue','tab:orange','tab:green','tab:red']\n",
    "results = {}\n",
    "for label,c in zip(labels,color):\n",
    "    print(label)\n",
    "    condition = df_viz[df_viz['label'] == label]\n",
    "    count_dict = Counter(condition['keyname'].to_list())\n",
    "    sort_dict = {i:count_dict[i] for i in keyorder}\n",
    "    df_count = pd.DataFrame(sort_dict.values(), index=sort_dict.keys(), columns=['freq'])\n",
    "    fig = df_count.plot.bar(color=c).get_figure()\n",
    "    fig.savefig(label + '.png', dpi=300)"
   ]
  },
  {
   "cell_type": "code",
   "execution_count": null,
   "id": "4bb75d22",
   "metadata": {},
   "outputs": [],
   "source": []
  },
  {
   "cell_type": "markdown",
   "id": "67cefdef",
   "metadata": {},
   "source": [
    "# ML Classifier"
   ]
  },
  {
   "cell_type": "code",
   "execution_count": 8,
   "id": "aa7ef832",
   "metadata": {},
   "outputs": [],
   "source": [
    "import numpy as np\n",
    "import matplotlib.pyplot as plt  \n",
    "from sklearn.linear_model import LogisticRegression\n",
    "from sklearn.metrics import plot_confusion_matrix"
   ]
  },
  {
   "cell_type": "code",
   "execution_count": 9,
   "id": "7eb488cb",
   "metadata": {},
   "outputs": [],
   "source": [
    "def _get_labels(label_quad, cls_type):\n",
    "    if cls_type == \"AV\":\n",
    "        results = np.array(label_quad)\n",
    "    elif cls_type == \"A\":\n",
    "        labels = []\n",
    "        for label in label_quad:\n",
    "            if label in ['Q1','Q2']:\n",
    "                labels.append('HA')\n",
    "            elif label in ['Q3','Q4']:\n",
    "                labels.append('LA')\n",
    "        results = np.array(labels)\n",
    "    elif cls_type == \"V\":\n",
    "        labels = []\n",
    "        for label in label_quad:\n",
    "            if label in ['Q1','Q4']:\n",
    "                labels.append('HV')\n",
    "            elif label in ['Q2','Q3']:\n",
    "                labels.append('LV') \n",
    "        results = np.array(labels)\n",
    "    return results\n",
    "\n",
    "def _get_train_test(train_val_list, test_list, cls_type = \"AV\"):\n",
    "    m_x_train = pd.DataFrame(train_val_list)\n",
    "    m_x_train = pd.concat([m_x_train, pd.get_dummies(m_x_train.keyname)],axis=1).drop(columns=['keyname'])\n",
    "    m_x_test = pd.DataFrame(test_list)\n",
    "    m_x_test = pd.concat([m_x_test, pd.get_dummies(m_x_test.keyname)],axis=1).drop(columns=['keyname'])\n",
    "    \n",
    "    m_y_train = list(train_val['label'])\n",
    "    m_y_test = list(test['label'])\n",
    "    m_y_train = _get_labels(m_y_train, cls_type)  \n",
    "    m_y_test = _get_labels(m_y_test, cls_type)  \n",
    "    return m_x_train, m_y_train, m_x_test, m_y_test"
   ]
  },
  {
   "cell_type": "code",
   "execution_count": 10,
   "id": "c51bb015",
   "metadata": {},
   "outputs": [],
   "source": [
    "def _get_results(cls_type = \"AV\"):\n",
    "    m_x_train, m_y_train, m_x_test, m_y_test = _get_train_test(train_val_list, test_list, cls_type = cls_type)\n",
    "    clf = LogisticRegression(random_state=42).fit(m_x_train, m_y_train)\n",
    "    return clf.score(m_x_test, m_y_test)"
   ]
  },
  {
   "cell_type": "code",
   "execution_count": 11,
   "id": "335f3d3c",
   "metadata": {},
   "outputs": [
    {
     "name": "stderr",
     "output_type": "stream",
     "text": [
      "/MIDI_Emotion_Classification/env/lib/python3.8/site-packages/sklearn/linear_model/_logistic.py:937: ConvergenceWarning: lbfgs failed to converge (status=1):\n",
      "STOP: TOTAL NO. of ITERATIONS REACHED LIMIT.\n",
      "\n",
      "Increase the number of iterations (max_iter) or scale the data as shown in:\n",
      "    https://scikit-learn.org/stable/modules/preprocessing.html.\n",
      "Please also refer to the documentation for alternative solver options:\n",
      "    https://scikit-learn.org/stable/modules/linear_model.html#logistic-regression\n",
      "  n_iter_i = _check_optimize_result(\n",
      "/MIDI_Emotion_Classification/env/lib/python3.8/site-packages/sklearn/linear_model/_logistic.py:937: ConvergenceWarning: lbfgs failed to converge (status=1):\n",
      "STOP: TOTAL NO. of ITERATIONS REACHED LIMIT.\n",
      "\n",
      "Increase the number of iterations (max_iter) or scale the data as shown in:\n",
      "    https://scikit-learn.org/stable/modules/preprocessing.html.\n",
      "Please also refer to the documentation for alternative solver options:\n",
      "    https://scikit-learn.org/stable/modules/linear_model.html#logistic-regression\n",
      "  n_iter_i = _check_optimize_result(\n",
      "/MIDI_Emotion_Classification/env/lib/python3.8/site-packages/sklearn/linear_model/_logistic.py:937: ConvergenceWarning: lbfgs failed to converge (status=1):\n",
      "STOP: TOTAL NO. of ITERATIONS REACHED LIMIT.\n",
      "\n",
      "Increase the number of iterations (max_iter) or scale the data as shown in:\n",
      "    https://scikit-learn.org/stable/modules/preprocessing.html.\n",
      "Please also refer to the documentation for alternative solver options:\n",
      "    https://scikit-learn.org/stable/modules/linear_model.html#logistic-regression\n",
      "  n_iter_i = _check_optimize_result(\n"
     ]
    },
    {
     "data": {
      "text/plain": [
       "(0.660377358490566, 0.9245283018867925, 0.6509433962264151)"
      ]
     },
     "execution_count": 11,
     "metadata": {},
     "output_type": "execute_result"
    }
   ],
   "source": [
    "_get_results(cls_type = \"AV\"), _get_results(cls_type = \"A\"), _get_results(cls_type = \"V\")"
   ]
  },
  {
   "cell_type": "code",
   "execution_count": null,
   "id": "80411584",
   "metadata": {},
   "outputs": [],
   "source": []
  }
 ],
 "metadata": {
  "kernelspec": {
   "display_name": "Python 3",
   "language": "python",
   "name": "python3"
  },
  "language_info": {
   "codemirror_mode": {
    "name": "ipython",
    "version": 3
   },
   "file_extension": ".py",
   "mimetype": "text/x-python",
   "name": "python",
   "nbconvert_exporter": "python",
   "pygments_lexer": "ipython3",
   "version": "3.8.5"
  }
 },
 "nbformat": 4,
 "nbformat_minor": 5
}
